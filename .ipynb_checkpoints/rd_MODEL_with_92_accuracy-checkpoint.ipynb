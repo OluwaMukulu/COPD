{
 "cells": [
  {
   "cell_type": "markdown",
   "id": "37e34ac7",
   "metadata": {
    "execution": {
     "iopub.execute_input": "2023-10-03T12:04:37.082920Z",
     "iopub.status.busy": "2023-10-03T12:04:37.082545Z",
     "iopub.status.idle": "2023-10-03T12:04:37.089268Z",
     "shell.execute_reply": "2023-10-03T12:04:37.088009Z",
     "shell.execute_reply.started": "2023-10-03T12:04:37.082891Z"
    },
    "id": "37e34ac7",
    "papermill": {
     "duration": 0.010059,
     "end_time": "2023-10-04T06:46:57.242499",
     "exception": false,
     "start_time": "2023-10-04T06:46:57.232440",
     "status": "completed"
    },
    "tags": []
   },
   "source": [
    "## PACKAGES AND LIBRARIES"
   ]
  },
  {
   "cell_type": "code",
   "execution_count": 1,
   "id": "dca3a257",
   "metadata": {
    "_cell_guid": "b1076dfc-b9ad-4769-8c92-a6c4dae69d19",
    "_uuid": "8f2839f25d086af736a60e9eeb907d3b93b6e0e5",
    "execution": {
     "iopub.execute_input": "2023-10-04T06:46:57.264766Z",
     "iopub.status.busy": "2023-10-04T06:46:57.264189Z",
     "iopub.status.idle": "2023-10-04T06:47:09.253012Z",
     "shell.execute_reply": "2023-10-04T06:47:09.251510Z"
    },
    "id": "dca3a257",
    "papermill": {
     "duration": 12.004234,
     "end_time": "2023-10-04T06:47:09.256118",
     "exception": false,
     "start_time": "2023-10-04T06:46:57.251884",
     "status": "completed"
    },
    "tags": []
   },
   "outputs": [
    {
     "ename": "ModuleNotFoundError",
     "evalue": "No module named 'librosa'",
     "output_type": "error",
     "traceback": [
      "\u001b[1;31m---------------------------------------------------------------------------\u001b[0m",
      "\u001b[1;31mModuleNotFoundError\u001b[0m                       Traceback (most recent call last)",
      "\u001b[1;32m~\\AppData\\Local\\Temp/ipykernel_22324/3154173130.py\u001b[0m in \u001b[0;36m<module>\u001b[1;34m\u001b[0m\n\u001b[0;32m      4\u001b[0m \u001b[1;32mfrom\u001b[0m \u001b[0mos\u001b[0m\u001b[1;33m.\u001b[0m\u001b[0mpath\u001b[0m \u001b[1;32mimport\u001b[0m \u001b[0misfile\u001b[0m\u001b[1;33m,\u001b[0m \u001b[0mjoin\u001b[0m\u001b[1;33m\u001b[0m\u001b[1;33m\u001b[0m\u001b[0m\n\u001b[0;32m      5\u001b[0m \u001b[1;33m\u001b[0m\u001b[0m\n\u001b[1;32m----> 6\u001b[1;33m \u001b[1;32mimport\u001b[0m \u001b[0mlibrosa\u001b[0m\u001b[1;33m\u001b[0m\u001b[1;33m\u001b[0m\u001b[0m\n\u001b[0m\u001b[0;32m      7\u001b[0m \u001b[1;32mimport\u001b[0m \u001b[0mlibrosa\u001b[0m\u001b[1;33m.\u001b[0m\u001b[0mdisplay\u001b[0m\u001b[1;33m\u001b[0m\u001b[1;33m\u001b[0m\u001b[0m\n\u001b[0;32m      8\u001b[0m \u001b[1;33m\u001b[0m\u001b[0m\n",
      "\u001b[1;31mModuleNotFoundError\u001b[0m: No module named 'librosa'"
     ]
    }
   ],
   "source": [
    "# Load various imports\n",
    "from datetime import datetime\n",
    "from os import listdir\n",
    "from os.path import isfile, join\n",
    "\n",
    "import librosa\n",
    "import librosa.display\n",
    "\n",
    "import numpy as np\n",
    "import pandas as pd\n",
    "\n",
    "import tensorflow\n",
    "from tensorflow.keras.models import Sequential\n",
    "from tensorflow.keras.layers import Dense, Dropout, Conv2D, MaxPooling2D, GlobalAveragePooling2D\n",
    "from keras.utils import to_categorical\n",
    "from tensorflow.keras.callbacks import ModelCheckpoint\n",
    "\n",
    "from sklearn.metrics import confusion_matrix, classification_report, roc_curve, auc, ConfusionMatrixDisplay\n",
    "from sklearn.model_selection import train_test_split\n",
    "from sklearn.preprocessing import LabelEncoder\n",
    "\n",
    "import matplotlib.pyplot as plt\n",
    "import seaborn as sns\n",
    "from sklearn.preprocessing import StandardScaler, OneHotEncoder\n",
    "from sklearn.preprocessing import MinMaxScaler"
   ]
  },
  {
   "cell_type": "code",
   "execution_count": null,
   "id": "c1288bef",
   "metadata": {
    "colab": {
     "base_uri": "https://localhost:8080/"
    },
    "execution": {
     "iopub.execute_input": "2023-10-04T06:47:09.279642Z",
     "iopub.status.busy": "2023-10-04T06:47:09.278956Z",
     "iopub.status.idle": "2023-10-04T06:47:20.691345Z",
     "shell.execute_reply": "2023-10-04T06:47:20.690010Z"
    },
    "id": "c1288bef",
    "outputId": "7bc26a98-745d-4fab-adfc-01bc7cf9fb3b",
    "papermill": {
     "duration": 11.428378,
     "end_time": "2023-10-04T06:47:20.694232",
     "exception": false,
     "start_time": "2023-10-04T06:47:09.265854",
     "status": "completed"
    },
    "tags": []
   },
   "outputs": [
    {
     "name": "stdout",
     "output_type": "stream",
     "text": [
      "Collecting pydub\n",
      "  Downloading pydub-0.25.1-py2.py3-none-any.whl (32 kB)\n",
      "Installing collected packages: pydub\n",
      "Successfully installed pydub-0.25.1\n"
     ]
    }
   ],
   "source": [
    "!pip install pydub"
   ]
  },
  {
   "cell_type": "code",
   "execution_count": null,
   "id": "b217fb23",
   "metadata": {
    "colab": {
     "base_uri": "https://localhost:8080/"
    },
    "execution": {
     "iopub.execute_input": "2023-10-04T06:47:20.715798Z",
     "iopub.status.busy": "2023-10-04T06:47:20.715334Z",
     "iopub.status.idle": "2023-10-04T06:47:31.247444Z",
     "shell.execute_reply": "2023-10-04T06:47:31.245710Z"
    },
    "id": "b217fb23",
    "outputId": "53ee88e0-a050-4b9a-c134-7ec01c39d1d3",
    "papermill": {
     "duration": 10.54623,
     "end_time": "2023-10-04T06:47:31.250175",
     "exception": false,
     "start_time": "2023-10-04T06:47:20.703945",
     "status": "completed"
    },
    "tags": []
   },
   "outputs": [
    {
     "name": "stdout",
     "output_type": "stream",
     "text": [
      "Collecting resampy\n",
      "  Downloading resampy-0.4.2-py3-none-any.whl (3.1 MB)\n",
      "\u001b[2K     \u001b[90m━━━━━━━━━━━━━━━━━━━━━━━━━━━━━━━━━━━━━━━━\u001b[0m \u001b[32m3.1/3.1 MB\u001b[0m \u001b[31m14.5 MB/s\u001b[0m eta \u001b[36m0:00:00\u001b[0m\n",
      "\u001b[?25hRequirement already satisfied: numpy>=1.17 in /usr/local/lib/python3.10/dist-packages (from resampy) (1.23.5)\n",
      "Requirement already satisfied: numba>=0.53 in /usr/local/lib/python3.10/dist-packages (from resampy) (0.58.1)\n",
      "Requirement already satisfied: llvmlite<0.42,>=0.41.0dev0 in /usr/local/lib/python3.10/dist-packages (from numba>=0.53->resampy) (0.41.1)\n",
      "Installing collected packages: resampy\n",
      "Successfully installed resampy-0.4.2\n"
     ]
    }
   ],
   "source": [
    "!pip install resampy"
   ]
  },
  {
   "cell_type": "code",
   "execution_count": null,
   "id": "9a1306b9",
   "metadata": {
    "colab": {
     "base_uri": "https://localhost:8080/"
    },
    "execution": {
     "iopub.execute_input": "2023-10-04T06:47:31.272338Z",
     "iopub.status.busy": "2023-10-04T06:47:31.271833Z",
     "iopub.status.idle": "2023-10-04T06:47:41.283651Z",
     "shell.execute_reply": "2023-10-04T06:47:41.282358Z"
    },
    "id": "9a1306b9",
    "outputId": "23940fb0-0af2-4f7b-8be1-4a7aa7ca7372",
    "papermill": {
     "duration": 10.026169,
     "end_time": "2023-10-04T06:47:41.286119",
     "exception": false,
     "start_time": "2023-10-04T06:47:31.259950",
     "status": "completed"
    },
    "tags": []
   },
   "outputs": [
    {
     "name": "stdout",
     "output_type": "stream",
     "text": [
      "Requirement already satisfied: librosa in /usr/local/lib/python3.10/dist-packages (0.10.1)\n",
      "Requirement already satisfied: audioread>=2.1.9 in /usr/local/lib/python3.10/dist-packages (from librosa) (3.0.1)\n",
      "Requirement already satisfied: numpy!=1.22.0,!=1.22.1,!=1.22.2,>=1.20.3 in /usr/local/lib/python3.10/dist-packages (from librosa) (1.23.5)\n",
      "Requirement already satisfied: scipy>=1.2.0 in /usr/local/lib/python3.10/dist-packages (from librosa) (1.11.4)\n",
      "Requirement already satisfied: scikit-learn>=0.20.0 in /usr/local/lib/python3.10/dist-packages (from librosa) (1.2.2)\n",
      "Requirement already satisfied: joblib>=0.14 in /usr/local/lib/python3.10/dist-packages (from librosa) (1.3.2)\n",
      "Requirement already satisfied: decorator>=4.3.0 in /usr/local/lib/python3.10/dist-packages (from librosa) (4.4.2)\n",
      "Requirement already satisfied: numba>=0.51.0 in /usr/local/lib/python3.10/dist-packages (from librosa) (0.58.1)\n",
      "Requirement already satisfied: soundfile>=0.12.1 in /usr/local/lib/python3.10/dist-packages (from librosa) (0.12.1)\n",
      "Requirement already satisfied: pooch>=1.0 in /usr/local/lib/python3.10/dist-packages (from librosa) (1.8.0)\n",
      "Requirement already satisfied: soxr>=0.3.2 in /usr/local/lib/python3.10/dist-packages (from librosa) (0.3.7)\n",
      "Requirement already satisfied: typing-extensions>=4.1.1 in /usr/local/lib/python3.10/dist-packages (from librosa) (4.5.0)\n",
      "Requirement already satisfied: lazy-loader>=0.1 in /usr/local/lib/python3.10/dist-packages (from librosa) (0.3)\n",
      "Requirement already satisfied: msgpack>=1.0 in /usr/local/lib/python3.10/dist-packages (from librosa) (1.0.7)\n",
      "Requirement already satisfied: llvmlite<0.42,>=0.41.0dev0 in /usr/local/lib/python3.10/dist-packages (from numba>=0.51.0->librosa) (0.41.1)\n",
      "Requirement already satisfied: platformdirs>=2.5.0 in /usr/local/lib/python3.10/dist-packages (from pooch>=1.0->librosa) (4.0.0)\n",
      "Requirement already satisfied: packaging>=20.0 in /usr/local/lib/python3.10/dist-packages (from pooch>=1.0->librosa) (23.2)\n",
      "Requirement already satisfied: requests>=2.19.0 in /usr/local/lib/python3.10/dist-packages (from pooch>=1.0->librosa) (2.31.0)\n",
      "Requirement already satisfied: threadpoolctl>=2.0.0 in /usr/local/lib/python3.10/dist-packages (from scikit-learn>=0.20.0->librosa) (3.2.0)\n",
      "Requirement already satisfied: cffi>=1.0 in /usr/local/lib/python3.10/dist-packages (from soundfile>=0.12.1->librosa) (1.16.0)\n",
      "Requirement already satisfied: pycparser in /usr/local/lib/python3.10/dist-packages (from cffi>=1.0->soundfile>=0.12.1->librosa) (2.21)\n",
      "Requirement already satisfied: charset-normalizer<4,>=2 in /usr/local/lib/python3.10/dist-packages (from requests>=2.19.0->pooch>=1.0->librosa) (3.3.2)\n",
      "Requirement already satisfied: idna<4,>=2.5 in /usr/local/lib/python3.10/dist-packages (from requests>=2.19.0->pooch>=1.0->librosa) (3.6)\n",
      "Requirement already satisfied: urllib3<3,>=1.21.1 in /usr/local/lib/python3.10/dist-packages (from requests>=2.19.0->pooch>=1.0->librosa) (2.0.7)\n",
      "Requirement already satisfied: certifi>=2017.4.17 in /usr/local/lib/python3.10/dist-packages (from requests>=2.19.0->pooch>=1.0->librosa) (2023.11.17)\n"
     ]
    }
   ],
   "source": [
    "!pip install librosa --upgrade"
   ]
  },
  {
   "cell_type": "markdown",
   "id": "a0d5fca9",
   "metadata": {
    "id": "a0d5fca9",
    "papermill": {
     "duration": 0.010102,
     "end_time": "2023-10-04T06:47:41.306782",
     "exception": false,
     "start_time": "2023-10-04T06:47:41.296680",
     "status": "completed"
    },
    "tags": []
   },
   "source": [
    "# DATASET"
   ]
  },
  {
   "cell_type": "code",
   "execution_count": null,
   "id": "9kOWmuMuAjRm",
   "metadata": {
    "colab": {
     "base_uri": "https://localhost:8080/"
    },
    "id": "9kOWmuMuAjRm",
    "outputId": "df581855-2984-4638-9636-e32a864a6a8a"
   },
   "outputs": [
    {
     "name": "stdout",
     "output_type": "stream",
     "text": [
      "Mounted at /content/drive\n"
     ]
    }
   ],
   "source": [
    "from google.colab import drive\n",
    "drive.mount('/content/drive')"
   ]
  },
  {
   "cell_type": "code",
   "execution_count": null,
   "id": "WkEaWqsUBFly",
   "metadata": {
    "colab": {
     "base_uri": "https://localhost:8080/"
    },
    "id": "WkEaWqsUBFly",
    "outputId": "ba4931ae-353a-4fc2-db35-3437b1754712"
   },
   "outputs": [
    {
     "data": {
      "text/plain": [
       "['Respiratory_Sound_Database',\n",
       " 'demographic_info.txt',\n",
       " 'respiratory_sound_database']"
      ]
     },
     "execution_count": 6,
     "metadata": {},
     "output_type": "execute_result"
    }
   ],
   "source": [
    "import os\n",
    "import zipfile\n",
    "# Unzipping the dataset\n",
    "zip_path = \"/content/drive/My Drive/Respiratory_Sound_Database.zip\"\n",
    "extract_path = \"/content/drive/My Drive/Respiratory_Sound_Database\"\n",
    "\n",
    "# Check if the folder already exists\n",
    "if not os.path.exists(extract_path):\n",
    "    with zipfile.ZipFile(zip_path, 'r') as zip_ref:\n",
    "        zip_ref.extractall(extract_path)\n",
    "\n",
    "# Listing the contents of the extracted directory\n",
    "os.listdir(extract_path)"
   ]
  },
  {
   "cell_type": "code",
   "execution_count": null,
   "id": "d2613ba1",
   "metadata": {
    "execution": {
     "iopub.execute_input": "2023-10-04T06:47:41.329041Z",
     "iopub.status.busy": "2023-10-04T06:47:41.328530Z",
     "iopub.status.idle": "2023-10-04T06:48:46.616439Z",
     "shell.execute_reply": "2023-10-04T06:48:46.615132Z"
    },
    "id": "d2613ba1",
    "papermill": {
     "duration": 65.302888,
     "end_time": "2023-10-04T06:48:46.619393",
     "exception": false,
     "start_time": "2023-10-04T06:47:41.316505",
     "status": "completed"
    },
    "tags": []
   },
   "outputs": [],
   "source": [
    "mypath = \"/content/drive/My Drive/Respiratory_Sound_Database/Respiratory_Sound_Database/Respiratory_Sound_Database/audio_and_txt_files/\""
   ]
  },
  {
   "cell_type": "code",
   "execution_count": null,
   "id": "NhFGeVU5bcLV",
   "metadata": {
    "colab": {
     "base_uri": "https://localhost:8080/"
    },
    "id": "NhFGeVU5bcLV",
    "outputId": "5726a82e-efa3-41c4-bef3-6365ce78de5b"
   },
   "outputs": [
    {
     "name": "stdout",
     "output_type": "stream",
     "text": [
      "Directory exists. Here are a few files:\n"
     ]
    }
   ],
   "source": [
    "if os.path.exists(mypath):\n",
    "    print(\"Directory exists. Here are a few files:\")\n",
    "    print(os.listdir(mypath)[:10])  # List the first 10 files for verification\n",
    "else:\n",
    "    print(\"Directory does not exist.\")\n"
   ]
  },
  {
   "cell_type": "code",
   "execution_count": null,
   "id": "qQdVONwMSZi-",
   "metadata": {
    "id": "qQdVONwMSZi-"
   },
   "outputs": [],
   "source": [
    "filenames = [f for f in listdir(mypath) if (isfile(join(mypath, f)) and f.endswith('.wav'))]"
   ]
  },
  {
   "cell_type": "code",
   "execution_count": null,
   "id": "307c0c73",
   "metadata": {
    "execution": {
     "iopub.execute_input": "2023-10-04T06:48:46.643010Z",
     "iopub.status.busy": "2023-10-04T06:48:46.642572Z",
     "iopub.status.idle": "2023-10-04T06:48:46.649561Z",
     "shell.execute_reply": "2023-10-04T06:48:46.648044Z"
    },
    "id": "307c0c73",
    "papermill": {
     "duration": 0.021531,
     "end_time": "2023-10-04T06:48:46.652030",
     "exception": false,
     "start_time": "2023-10-04T06:48:46.630499",
     "status": "completed"
    },
    "tags": []
   },
   "outputs": [],
   "source": [
    "p_id_in_file = [] # patient IDs corresponding to each file\n",
    "for name in filenames:\n",
    "    p_id_in_file.append(int(name[:3]))\n",
    "\n",
    "p_id_in_file = np.array(p_id_in_file)"
   ]
  },
  {
   "cell_type": "code",
   "execution_count": null,
   "id": "ca3d8fab",
   "metadata": {
    "execution": {
     "iopub.execute_input": "2023-10-04T06:48:46.674805Z",
     "iopub.status.busy": "2023-10-04T06:48:46.674372Z",
     "iopub.status.idle": "2023-10-04T06:48:46.681392Z",
     "shell.execute_reply": "2023-10-04T06:48:46.680150Z"
    },
    "id": "ca3d8fab",
    "papermill": {
     "duration": 0.021004,
     "end_time": "2023-10-04T06:48:46.683584",
     "exception": false,
     "start_time": "2023-10-04T06:48:46.662580",
     "status": "completed"
    },
    "tags": []
   },
   "outputs": [],
   "source": [
    "filepaths = [join(mypath, f) for f in filenames] # full paths of files"
   ]
  },
  {
   "cell_type": "code",
   "execution_count": null,
   "id": "d292d445",
   "metadata": {
    "execution": {
     "iopub.execute_input": "2023-10-04T06:48:46.706557Z",
     "iopub.status.busy": "2023-10-04T06:48:46.705445Z",
     "iopub.status.idle": "2023-10-04T06:48:46.834161Z",
     "shell.execute_reply": "2023-10-04T06:48:46.832936Z"
    },
    "id": "d292d445",
    "papermill": {
     "duration": 0.143426,
     "end_time": "2023-10-04T06:48:46.837286",
     "exception": false,
     "start_time": "2023-10-04T06:48:46.693860",
     "status": "completed"
    },
    "tags": []
   },
   "outputs": [],
   "source": [
    "p_diag = pd.read_csv(\"/content/drive/My Drive/Respiratory_Sound_Database/Respiratory_Sound_Database/Respiratory_Sound_Database/patient_diagnosis.csv\",header=None) # patient diagnosis file"
   ]
  },
  {
   "cell_type": "code",
   "execution_count": null,
   "id": "86f6597c",
   "metadata": {
    "execution": {
     "iopub.execute_input": "2023-10-04T06:48:46.860774Z",
     "iopub.status.busy": "2023-10-04T06:48:46.860335Z",
     "iopub.status.idle": "2023-10-04T06:48:47.225695Z",
     "shell.execute_reply": "2023-10-04T06:48:47.224362Z"
    },
    "id": "86f6597c",
    "papermill": {
     "duration": 0.3807,
     "end_time": "2023-10-04T06:48:47.228587",
     "exception": false,
     "start_time": "2023-10-04T06:48:46.847887",
     "status": "completed"
    },
    "tags": []
   },
   "outputs": [],
   "source": [
    "labels = np.array([p_diag[p_diag[0] == x][1].values[0] for x in p_id_in_file]) # labels for audio files\n"
   ]
  },
  {
   "cell_type": "markdown",
   "id": "d285163a",
   "metadata": {
    "id": "d285163a",
    "papermill": {
     "duration": 0.009568,
     "end_time": "2023-10-04T06:48:47.248420",
     "exception": false,
     "start_time": "2023-10-04T06:48:47.238852",
     "status": "completed"
    },
    "tags": []
   },
   "source": [
    "# DATA AUGMENTATION FUNCTIONS"
   ]
  },
  {
   "cell_type": "markdown",
   "id": "255fa20a",
   "metadata": {
    "id": "255fa20a",
    "papermill": {
     "duration": 0.009581,
     "end_time": "2023-10-04T06:48:47.336197",
     "exception": false,
     "start_time": "2023-10-04T06:48:47.326616",
     "status": "completed"
    },
    "tags": []
   },
   "source": [
    "NOISE"
   ]
  },
  {
   "cell_type": "code",
   "execution_count": null,
   "id": "e6d1516e",
   "metadata": {
    "execution": {
     "iopub.execute_input": "2023-10-04T06:48:47.357890Z",
     "iopub.status.busy": "2023-10-04T06:48:47.357409Z",
     "iopub.status.idle": "2023-10-04T06:48:47.364187Z",
     "shell.execute_reply": "2023-10-04T06:48:47.362919Z"
    },
    "id": "e6d1516e",
    "papermill": {
     "duration": 0.020973,
     "end_time": "2023-10-04T06:48:47.366930",
     "exception": false,
     "start_time": "2023-10-04T06:48:47.345957",
     "status": "completed"
    },
    "tags": []
   },
   "outputs": [],
   "source": [
    "def add_noise(data):\n",
    "    noise_value = 0.015 * np.random.uniform() * np.amax(data)\n",
    "    data = data + noise_value * np.random.normal(size=data.shape[0])\n",
    "    return data"
   ]
  },
  {
   "cell_type": "markdown",
   "id": "7e19e9b1",
   "metadata": {
    "id": "7e19e9b1",
    "papermill": {
     "duration": 0.01015,
     "end_time": "2023-10-04T06:48:47.388256",
     "exception": false,
     "start_time": "2023-10-04T06:48:47.378106",
     "status": "completed"
    },
    "tags": []
   },
   "source": [
    "STRETCH"
   ]
  },
  {
   "cell_type": "code",
   "execution_count": null,
   "id": "35917116",
   "metadata": {
    "execution": {
     "iopub.execute_input": "2023-10-04T06:48:47.411120Z",
     "iopub.status.busy": "2023-10-04T06:48:47.410663Z",
     "iopub.status.idle": "2023-10-04T06:48:47.416496Z",
     "shell.execute_reply": "2023-10-04T06:48:47.415113Z"
    },
    "id": "35917116",
    "papermill": {
     "duration": 0.020248,
     "end_time": "2023-10-04T06:48:47.418844",
     "exception": false,
     "start_time": "2023-10-04T06:48:47.398596",
     "status": "completed"
    },
    "tags": []
   },
   "outputs": [],
   "source": [
    "def stretch_process(data, rate=0.8):\n",
    "    return librosa.effects.time_stretch(data, rate=0.8)"
   ]
  },
  {
   "cell_type": "markdown",
   "id": "9f39cf17",
   "metadata": {
    "id": "9f39cf17",
    "papermill": {
     "duration": 0.010656,
     "end_time": "2023-10-04T06:48:47.439929",
     "exception": false,
     "start_time": "2023-10-04T06:48:47.429273",
     "status": "completed"
    },
    "tags": []
   },
   "source": [
    "PITCH"
   ]
  },
  {
   "cell_type": "code",
   "execution_count": null,
   "id": "77636e28",
   "metadata": {
    "execution": {
     "iopub.execute_input": "2023-10-04T06:48:47.463778Z",
     "iopub.status.busy": "2023-10-04T06:48:47.463327Z",
     "iopub.status.idle": "2023-10-04T06:48:47.469322Z",
     "shell.execute_reply": "2023-10-04T06:48:47.468146Z"
    },
    "id": "77636e28",
    "papermill": {
     "duration": 0.021051,
     "end_time": "2023-10-04T06:48:47.471659",
     "exception": false,
     "start_time": "2023-10-04T06:48:47.450608",
     "status": "completed"
    },
    "tags": []
   },
   "outputs": [],
   "source": [
    "def pitch_process(data, sampling_rate, pitch_factor=0.7):\n",
    "    return librosa.effects.pitch_shift(data, sr=sampling_rate, n_steps=pitch_factor)"
   ]
  },
  {
   "cell_type": "markdown",
   "id": "a85890e8",
   "metadata": {
    "id": "a85890e8",
    "papermill": {
     "duration": 0.010109,
     "end_time": "2023-10-04T06:48:47.491957",
     "exception": false,
     "start_time": "2023-10-04T06:48:47.481848",
     "status": "completed"
    },
    "tags": []
   },
   "source": [
    "# DATA PROCESS FUNCTIONS"
   ]
  },
  {
   "cell_type": "markdown",
   "id": "28d493dc",
   "metadata": {
    "id": "28d493dc",
    "papermill": {
     "duration": 0.009387,
     "end_time": "2023-10-04T06:48:47.511808",
     "exception": false,
     "start_time": "2023-10-04T06:48:47.502421",
     "status": "completed"
    },
    "tags": []
   },
   "source": [
    "EXTRACT FEATURES"
   ]
  },
  {
   "cell_type": "code",
   "execution_count": null,
   "id": "f4a82c31",
   "metadata": {
    "execution": {
     "iopub.execute_input": "2023-10-04T06:48:47.533462Z",
     "iopub.status.busy": "2023-10-04T06:48:47.533018Z",
     "iopub.status.idle": "2023-10-04T06:48:47.541727Z",
     "shell.execute_reply": "2023-10-04T06:48:47.540501Z"
    },
    "id": "f4a82c31",
    "papermill": {
     "duration": 0.022278,
     "end_time": "2023-10-04T06:48:47.543952",
     "exception": false,
     "start_time": "2023-10-04T06:48:47.521674",
     "status": "completed"
    },
    "tags": []
   },
   "outputs": [],
   "source": [
    "def extract_process(data, sample_rate):\n",
    "    output_result = np.array([])\n",
    "\n",
    "    mean_zero = np.mean(librosa.feature.zero_crossing_rate(y=data).T, axis=0)\n",
    "    output_result = np.hstack((output_result, mean_zero))\n",
    "\n",
    "    stft_out = np.abs(librosa.stft(data))\n",
    "    chroma_stft = np.mean(librosa.feature.chroma_stft(S=stft_out, sr=sample_rate).T, axis=0)\n",
    "    output_result = np.hstack((output_result, chroma_stft))\n",
    "\n",
    "    mfcc_out = np.mean(librosa.feature.mfcc(y=data, sr=sample_rate, n_mfcc=40).T, axis=0)\n",
    "    output_result = np.hstack((output_result, mfcc_out))\n",
    "\n",
    "    root_mean_out = np.mean(librosa.feature.rms(y=data).T, axis=0)\n",
    "    output_result = np.hstack((output_result, root_mean_out))\n",
    "\n",
    "    mel_spectogram = np.mean(librosa.feature.melspectrogram(y=data, sr=sample_rate).T, axis=0)\n",
    "    output_result = np.hstack((output_result, mel_spectogram))\n",
    "\n",
    "    return output_result"
   ]
  },
  {
   "cell_type": "markdown",
   "id": "f624a01c",
   "metadata": {
    "id": "f624a01c",
    "papermill": {
     "duration": 0.009909,
     "end_time": "2023-10-04T06:48:47.563683",
     "exception": false,
     "start_time": "2023-10-04T06:48:47.553774",
     "status": "completed"
    },
    "tags": []
   },
   "source": [
    "EXPORT FEATURES"
   ]
  },
  {
   "cell_type": "code",
   "execution_count": null,
   "id": "d82e8725",
   "metadata": {
    "execution": {
     "iopub.execute_input": "2023-10-04T06:48:47.586107Z",
     "iopub.status.busy": "2023-10-04T06:48:47.585656Z",
     "iopub.status.idle": "2023-10-04T06:48:47.594748Z",
     "shell.execute_reply": "2023-10-04T06:48:47.593537Z"
    },
    "id": "d82e8725",
    "papermill": {
     "duration": 0.023352,
     "end_time": "2023-10-04T06:48:47.596994",
     "exception": false,
     "start_time": "2023-10-04T06:48:47.573642",
     "status": "completed"
    },
    "tags": []
   },
   "outputs": [],
   "source": [
    "def extract_features(file_name):\n",
    "    \"\"\"\n",
    "    This function takes in the path for an audio file as a string, loads it,\n",
    "    and extracts several audio features including mean values of MFCC, Zero Crossing Rate,\n",
    "    Chromagram, Root Mean Square Energy, and Mel Spectrogram from the original and its augmented versions.\n",
    "    \"\"\"\n",
    "    try:\n",
    "        # Load the original audio file\n",
    "        audio, sample_rate = librosa.load(file_name, res_type='kaiser_fast', duration=42, offset=0.6)\n",
    "\n",
    "        # Extract features from the original audio data\n",
    "        extracted_features = extract_process(audio, sample_rate)\n",
    "        result = np.array(extracted_features)\n",
    "\n",
    "        # Add noise and extract features\n",
    "        noise_out = add_noise(audio)\n",
    "        output_2 = extract_process(noise_out, sample_rate)\n",
    "        result = np.vstack((result, output_2))\n",
    "\n",
    "        # Time-stretch and then pitch-shift before extracting features\n",
    "        new_out = stretch_process(audio,0.8)\n",
    "        stretch_pitch = pitch_process(new_out, sample_rate,pitch_factor=0.7)\n",
    "        output_3 = extract_process(stretch_pitch, sample_rate)\n",
    "        result = np.vstack((result, output_3))\n",
    "\n",
    "    except Exception as e:\n",
    "        print(\"Error encountered while parsing file: \", file_name)\n",
    "        print(\"Error Details:\", e)\n",
    "        return None\n",
    "\n",
    "    return result"
   ]
  },
  {
   "cell_type": "markdown",
   "id": "bb486635",
   "metadata": {
    "id": "bb486635",
    "papermill": {
     "duration": 0.010039,
     "end_time": "2023-10-04T06:48:47.617441",
     "exception": false,
     "start_time": "2023-10-04T06:48:47.607402",
     "status": "completed"
    },
    "tags": []
   },
   "source": [
    "# DATA PROCESS AND ENGINEERING"
   ]
  },
  {
   "cell_type": "markdown",
   "id": "cc6e2e6c",
   "metadata": {
    "id": "cc6e2e6c",
    "papermill": {
     "duration": 0.009859,
     "end_time": "2023-10-04T06:48:47.637720",
     "exception": false,
     "start_time": "2023-10-04T06:48:47.627861",
     "status": "completed"
    },
    "tags": []
   },
   "source": [
    "TRANSFORMATION AND EXPORTATION"
   ]
  },
  {
   "cell_type": "code",
   "execution_count": null,
   "id": "3fbb508a",
   "metadata": {
    "execution": {
     "iopub.execute_input": "2023-10-04T06:48:47.660182Z",
     "iopub.status.busy": "2023-10-04T06:48:47.659679Z",
     "iopub.status.idle": "2023-10-04T07:19:03.420957Z",
     "shell.execute_reply": "2023-10-04T07:19:03.419296Z"
    },
    "id": "3fbb508a",
    "papermill": {
     "duration": 1815.80866,
     "end_time": "2023-10-04T07:19:03.456459",
     "exception": false,
     "start_time": "2023-10-04T06:48:47.647799",
     "status": "completed"
    },
    "tags": []
   },
   "outputs": [],
   "source": [
    "#Note that this process takes a very long time to complete\n",
    "\n",
    "features = []\n",
    "\n",
    "# Iterate through each sound file and extract the features\n",
    "for file_name in filepaths:\n",
    "    data = extract_features(file_name)\n",
    "    features.append(data)\n",
    "\n",
    "print('Finished feature extraction from ', len(features), ' files')\n",
    "features = np.array(features)"
   ]
  },
  {
   "cell_type": "code",
   "execution_count": null,
   "id": "323ac262",
   "metadata": {
    "execution": {
     "iopub.execute_input": "2023-10-04T07:19:03.524815Z",
     "iopub.status.busy": "2023-10-04T07:19:03.523185Z",
     "iopub.status.idle": "2023-10-04T07:19:03.534133Z",
     "shell.execute_reply": "2023-10-04T07:19:03.533336Z"
    },
    "id": "323ac262",
    "papermill": {
     "duration": 0.048401,
     "end_time": "2023-10-04T07:19:03.536757",
     "exception": false,
     "start_time": "2023-10-04T07:19:03.488356",
     "status": "completed"
    },
    "tags": []
   },
   "outputs": [],
   "source": [
    "features.shape"
   ]
  },
  {
   "cell_type": "code",
   "execution_count": null,
   "id": "7d574774",
   "metadata": {
    "execution": {
     "iopub.execute_input": "2023-10-04T07:19:03.562658Z",
     "iopub.status.busy": "2023-10-04T07:19:03.561713Z",
     "iopub.status.idle": "2023-10-04T07:19:03.569130Z",
     "shell.execute_reply": "2023-10-04T07:19:03.567587Z"
    },
    "id": "7d574774",
    "papermill": {
     "duration": 0.022881,
     "end_time": "2023-10-04T07:19:03.571983",
     "exception": false,
     "start_time": "2023-10-04T07:19:03.549102",
     "status": "completed"
    },
    "tags": []
   },
   "outputs": [],
   "source": [
    "# delete the very rare diseases\n",
    "new_features = np.delete(features, np.where((labels == 'Asthma') | (labels == 'LRTI'))[0], axis=0)\n",
    "\n",
    "new_labels = np.delete(labels, np.where((labels == 'Asthma') | (labels == 'LRTI'))[0], axis=0)"
   ]
  },
  {
   "cell_type": "code",
   "execution_count": null,
   "id": "3f11b431",
   "metadata": {
    "execution": {
     "iopub.execute_input": "2023-10-04T07:19:03.596663Z",
     "iopub.status.busy": "2023-10-04T07:19:03.596271Z",
     "iopub.status.idle": "2023-10-04T07:19:03.604684Z",
     "shell.execute_reply": "2023-10-04T07:19:03.602748Z"
    },
    "id": "3f11b431",
    "papermill": {
     "duration": 0.02469,
     "end_time": "2023-10-04T07:19:03.607615",
     "exception": false,
     "start_time": "2023-10-04T07:19:03.582925",
     "status": "completed"
    },
    "tags": []
   },
   "outputs": [],
   "source": [
    "# print class counts\n",
    "unique_elements, counts_elements = np.unique(new_labels, return_counts=True)\n",
    "print(np.asarray((unique_elements, counts_elements)))"
   ]
  },
  {
   "cell_type": "code",
   "execution_count": null,
   "id": "b0a82eb8",
   "metadata": {
    "execution": {
     "iopub.execute_input": "2023-10-04T07:19:03.631192Z",
     "iopub.status.busy": "2023-10-04T07:19:03.630745Z",
     "iopub.status.idle": "2023-10-04T07:19:03.947499Z",
     "shell.execute_reply": "2023-10-04T07:19:03.946547Z"
    },
    "id": "b0a82eb8",
    "papermill": {
     "duration": 0.330316,
     "end_time": "2023-10-04T07:19:03.949347",
     "exception": false,
     "start_time": "2023-10-04T07:19:03.619031",
     "status": "completed"
    },
    "tags": []
   },
   "outputs": [],
   "source": [
    "# plot class counts\n",
    "y_pos = np.arange(len(unique_elements))\n",
    "plt.figure(figsize=(12,8))\n",
    "plt.bar(unique_elements, counts_elements, align='center', alpha=0.5)\n",
    "plt.xticks(y_pos, unique_elements)\n",
    "plt.ylabel('Count')\n",
    "plt.xlabel('Disease')\n",
    "plt.title('Disease Count in Sound Files (No Asthma or LRTI)')\n",
    "plt.show()"
   ]
  },
  {
   "cell_type": "markdown",
   "id": "8bef5728",
   "metadata": {
    "id": "8bef5728",
    "papermill": {
     "duration": 0.015057,
     "end_time": "2023-10-04T07:19:03.975323",
     "exception": false,
     "start_time": "2023-10-04T07:19:03.960266",
     "status": "completed"
    },
    "tags": []
   },
   "source": [
    "Flattened features array for preapering 1D CNN Model"
   ]
  },
  {
   "cell_type": "code",
   "execution_count": null,
   "id": "b1444022",
   "metadata": {
    "execution": {
     "iopub.execute_input": "2023-10-04T07:19:04.007961Z",
     "iopub.status.busy": "2023-10-04T07:19:04.006515Z",
     "iopub.status.idle": "2023-10-04T07:19:04.013817Z",
     "shell.execute_reply": "2023-10-04T07:19:04.012319Z"
    },
    "id": "b1444022",
    "papermill": {
     "duration": 0.025774,
     "end_time": "2023-10-04T07:19:04.017327",
     "exception": false,
     "start_time": "2023-10-04T07:19:03.991553",
     "status": "completed"
    },
    "tags": []
   },
   "outputs": [],
   "source": [
    "flattened_features = new_features.reshape(-1, 182)\n"
   ]
  },
  {
   "cell_type": "code",
   "execution_count": null,
   "id": "440863c9",
   "metadata": {
    "execution": {
     "iopub.execute_input": "2023-10-04T07:19:04.053607Z",
     "iopub.status.busy": "2023-10-04T07:19:04.053158Z",
     "iopub.status.idle": "2023-10-04T07:19:04.058954Z",
     "shell.execute_reply": "2023-10-04T07:19:04.057646Z"
    },
    "id": "440863c9",
    "papermill": {
     "duration": 0.025802,
     "end_time": "2023-10-04T07:19:04.061470",
     "exception": false,
     "start_time": "2023-10-04T07:19:04.035668",
     "status": "completed"
    },
    "tags": []
   },
   "outputs": [],
   "source": [
    "augmented_labels = np.repeat(labels, 3)"
   ]
  },
  {
   "cell_type": "code",
   "execution_count": null,
   "id": "ef364374",
   "metadata": {
    "execution": {
     "iopub.execute_input": "2023-10-04T07:19:04.088817Z",
     "iopub.status.busy": "2023-10-04T07:19:04.087723Z",
     "iopub.status.idle": "2023-10-04T07:19:04.098554Z",
     "shell.execute_reply": "2023-10-04T07:19:04.097289Z"
    },
    "id": "ef364374",
    "papermill": {
     "duration": 0.028347,
     "end_time": "2023-10-04T07:19:04.101654",
     "exception": false,
     "start_time": "2023-10-04T07:19:04.073307",
     "status": "completed"
    },
    "tags": []
   },
   "outputs": [],
   "source": [
    "augmented_features = np.reshape(features, (-1, 182))  # Flatten the feature sets\n",
    "\n",
    "mask = ~np.isin(augmented_labels, ['Asthma', 'LRTI'])\n",
    "augmented_features = augmented_features[mask]\n",
    "augmented_labels = augmented_labels[mask]"
   ]
  },
  {
   "cell_type": "code",
   "execution_count": null,
   "id": "82e30d05",
   "metadata": {
    "execution": {
     "iopub.execute_input": "2023-10-04T07:19:04.130061Z",
     "iopub.status.busy": "2023-10-04T07:19:04.127805Z",
     "iopub.status.idle": "2023-10-04T07:19:04.136999Z",
     "shell.execute_reply": "2023-10-04T07:19:04.135843Z"
    },
    "id": "82e30d05",
    "papermill": {
     "duration": 0.025192,
     "end_time": "2023-10-04T07:19:04.139243",
     "exception": false,
     "start_time": "2023-10-04T07:19:04.114051",
     "status": "completed"
    },
    "tags": []
   },
   "outputs": [],
   "source": [
    "le = LabelEncoder()\n",
    "i_labels = le.fit_transform(augmented_labels)\n",
    "oh_labels = to_categorical(i_labels)"
   ]
  },
  {
   "cell_type": "code",
   "execution_count": null,
   "id": "5d56bcc3",
   "metadata": {
    "execution": {
     "iopub.execute_input": "2023-10-04T07:19:04.169870Z",
     "iopub.status.busy": "2023-10-04T07:19:04.168947Z",
     "iopub.status.idle": "2023-10-04T07:19:04.176883Z",
     "shell.execute_reply": "2023-10-04T07:19:04.176013Z"
    },
    "id": "5d56bcc3",
    "papermill": {
     "duration": 0.027898,
     "end_time": "2023-10-04T07:19:04.179017",
     "exception": false,
     "start_time": "2023-10-04T07:19:04.151119",
     "status": "completed"
    },
    "tags": []
   },
   "outputs": [],
   "source": [
    "oh_labels.shape"
   ]
  },
  {
   "cell_type": "code",
   "execution_count": null,
   "id": "10f3f7c5",
   "metadata": {
    "execution": {
     "iopub.execute_input": "2023-10-04T07:19:04.202736Z",
     "iopub.status.busy": "2023-10-04T07:19:04.202005Z",
     "iopub.status.idle": "2023-10-04T07:19:04.208726Z",
     "shell.execute_reply": "2023-10-04T07:19:04.207864Z"
    },
    "id": "10f3f7c5",
    "papermill": {
     "duration": 0.021276,
     "end_time": "2023-10-04T07:19:04.211196",
     "exception": false,
     "start_time": "2023-10-04T07:19:04.189920",
     "status": "completed"
    },
    "tags": []
   },
   "outputs": [],
   "source": [
    "flattened_features.shape"
   ]
  },
  {
   "cell_type": "code",
   "execution_count": null,
   "id": "c14689ec",
   "metadata": {
    "execution": {
     "iopub.execute_input": "2023-10-04T07:19:04.241002Z",
     "iopub.status.busy": "2023-10-04T07:19:04.240608Z",
     "iopub.status.idle": "2023-10-04T07:19:04.271030Z",
     "shell.execute_reply": "2023-10-04T07:19:04.270075Z"
    },
    "id": "c14689ec",
    "papermill": {
     "duration": 0.045836,
     "end_time": "2023-10-04T07:19:04.273416",
     "exception": false,
     "start_time": "2023-10-04T07:19:04.227580",
     "status": "completed"
    },
    "tags": []
   },
   "outputs": [],
   "source": [
    "# train test split\n",
    "x_train, x_test, y_train, y_test = train_test_split(flattened_features, oh_labels, stratify=oh_labels,\n",
    "                                                    test_size=0.2, random_state = 42)"
   ]
  },
  {
   "cell_type": "code",
   "execution_count": null,
   "id": "b2ab5f3c",
   "metadata": {
    "execution": {
     "iopub.execute_input": "2023-10-04T07:19:04.304134Z",
     "iopub.status.busy": "2023-10-04T07:19:04.303267Z",
     "iopub.status.idle": "2023-10-04T07:19:04.309499Z",
     "shell.execute_reply": "2023-10-04T07:19:04.308276Z"
    },
    "id": "b2ab5f3c",
    "papermill": {
     "duration": 0.027227,
     "end_time": "2023-10-04T07:19:04.313012",
     "exception": false,
     "start_time": "2023-10-04T07:19:04.285785",
     "status": "completed"
    },
    "tags": []
   },
   "outputs": [],
   "source": [
    "#SCALER & TRANSFORMATION\n",
    "scaler_data = StandardScaler()"
   ]
  },
  {
   "cell_type": "code",
   "execution_count": null,
   "id": "cdb3e2b3",
   "metadata": {
    "execution": {
     "iopub.execute_input": "2023-10-04T07:19:04.347420Z",
     "iopub.status.busy": "2023-10-04T07:19:04.346104Z",
     "iopub.status.idle": "2023-10-04T07:19:04.353311Z",
     "shell.execute_reply": "2023-10-04T07:19:04.352272Z"
    },
    "id": "cdb3e2b3",
    "papermill": {
     "duration": 0.024977,
     "end_time": "2023-10-04T07:19:04.355615",
     "exception": false,
     "start_time": "2023-10-04T07:19:04.330638",
     "status": "completed"
    },
    "tags": []
   },
   "outputs": [],
   "source": [
    "print(x_train.shape)\n",
    "print(y_train.shape)\n",
    "print(x_test.shape)\n",
    "print(y_test.shape)"
   ]
  },
  {
   "cell_type": "code",
   "execution_count": null,
   "id": "63eb2b68",
   "metadata": {
    "execution": {
     "iopub.execute_input": "2023-10-04T07:19:04.382841Z",
     "iopub.status.busy": "2023-10-04T07:19:04.381958Z",
     "iopub.status.idle": "2023-10-04T07:19:04.400352Z",
     "shell.execute_reply": "2023-10-04T07:19:04.398636Z"
    },
    "id": "63eb2b68",
    "papermill": {
     "duration": 0.035458,
     "end_time": "2023-10-04T07:19:04.403543",
     "exception": false,
     "start_time": "2023-10-04T07:19:04.368085",
     "status": "completed"
    },
    "tags": []
   },
   "outputs": [],
   "source": [
    "x_train = scaler_data.fit_transform(x_train)\n",
    "x_test = scaler_data.transform(x_test)"
   ]
  },
  {
   "cell_type": "code",
   "execution_count": null,
   "id": "181e6b86",
   "metadata": {
    "execution": {
     "iopub.execute_input": "2023-10-04T07:19:04.431132Z",
     "iopub.status.busy": "2023-10-04T07:19:04.430665Z",
     "iopub.status.idle": "2023-10-04T07:19:04.436571Z",
     "shell.execute_reply": "2023-10-04T07:19:04.435091Z"
    },
    "id": "181e6b86",
    "papermill": {
     "duration": 0.02349,
     "end_time": "2023-10-04T07:19:04.439287",
     "exception": false,
     "start_time": "2023-10-04T07:19:04.415797",
     "status": "completed"
    },
    "tags": []
   },
   "outputs": [],
   "source": [
    "x_train = np.expand_dims(x_train,axis=2)\n",
    "x_test = np.expand_dims(x_test,axis=2)"
   ]
  },
  {
   "cell_type": "markdown",
   "id": "b1378e8c",
   "metadata": {
    "execution": {
     "iopub.execute_input": "2023-10-03T12:55:19.668276Z",
     "iopub.status.busy": "2023-10-03T12:55:19.667893Z",
     "iopub.status.idle": "2023-10-03T12:55:19.674553Z",
     "shell.execute_reply": "2023-10-03T12:55:19.673410Z",
     "shell.execute_reply.started": "2023-10-03T12:55:19.668247Z"
    },
    "id": "b1378e8c",
    "papermill": {
     "duration": 0.012254,
     "end_time": "2023-10-04T07:19:04.469646",
     "exception": false,
     "start_time": "2023-10-04T07:19:04.457392",
     "status": "completed"
    },
    "tags": []
   },
   "source": [
    "# 1D CNN Model"
   ]
  },
  {
   "cell_type": "code",
   "execution_count": null,
   "id": "29206202",
   "metadata": {
    "execution": {
     "iopub.execute_input": "2023-10-04T07:19:04.499503Z",
     "iopub.status.busy": "2023-10-04T07:19:04.498420Z",
     "iopub.status.idle": "2023-10-04T07:19:04.901008Z",
     "shell.execute_reply": "2023-10-04T07:19:04.899460Z"
    },
    "id": "29206202",
    "papermill": {
     "duration": 0.421759,
     "end_time": "2023-10-04T07:19:04.903871",
     "exception": false,
     "start_time": "2023-10-04T07:19:04.482112",
     "status": "completed"
    },
    "tags": []
   },
   "outputs": [],
   "source": [
    "from tensorflow.keras import layers, Sequential\n",
    "\n",
    "num_labels = len(np.unique(new_labels))  # Determine the number of unique classes\n",
    "\n",
    "Model = Sequential([\n",
    "    layers.Conv1D(256, kernel_size=5, strides=1, padding='same', activation='relu', input_shape=(x_train.shape[1], 1)),\n",
    "    layers.MaxPooling1D(pool_size=5, strides = 2, padding = 'same'),\n",
    "    layers.Conv1D(256, kernel_size=5, strides=1, padding='same', activation='relu'),\n",
    "    layers.MaxPooling1D(pool_size=5, strides = 2, padding = 'same'),\n",
    "    layers.Conv1D(128, kernel_size=5, strides=1, padding='same', activation='relu'),\n",
    "    layers.MaxPooling1D(pool_size=5, strides = 2, padding = 'same'),\n",
    "    layers.Conv1D(64, kernel_size=5, strides=1, padding='same', activation='relu'),\n",
    "    layers.MaxPooling1D(pool_size=5, strides = 2, padding = 'same'),\n",
    "    layers.Conv1D(32, kernel_size=5, strides=1, padding='same', activation='relu'),\n",
    "    layers.MaxPooling1D(pool_size=5, strides = 2, padding = 'same'),\n",
    "    layers.Dropout(0.2),\n",
    "    layers.Flatten(),\n",
    "    layers.Dense(units=32, activation='relu'),\n",
    "    layers.Dropout(0.3),\n",
    "    layers.Dense(units=num_labels, activation='softmax')\n",
    "])"
   ]
  },
  {
   "cell_type": "code",
   "execution_count": null,
   "id": "5ba1cd9e",
   "metadata": {
    "execution": {
     "iopub.execute_input": "2023-10-04T07:19:04.931330Z",
     "iopub.status.busy": "2023-10-04T07:19:04.930030Z",
     "iopub.status.idle": "2023-10-04T07:19:04.954733Z",
     "shell.execute_reply": "2023-10-04T07:19:04.953319Z"
    },
    "id": "5ba1cd9e",
    "papermill": {
     "duration": 0.040858,
     "end_time": "2023-10-04T07:19:04.957340",
     "exception": false,
     "start_time": "2023-10-04T07:19:04.916482",
     "status": "completed"
    },
    "tags": []
   },
   "outputs": [],
   "source": [
    "Model.compile(optimizer = 'adam' , loss = 'categorical_crossentropy' , metrics = ['accuracy'])\n"
   ]
  },
  {
   "cell_type": "code",
   "execution_count": null,
   "id": "8c2e0fde",
   "metadata": {
    "execution": {
     "iopub.execute_input": "2023-10-04T07:19:04.983858Z",
     "iopub.status.busy": "2023-10-04T07:19:04.983412Z",
     "iopub.status.idle": "2023-10-04T07:19:04.989696Z",
     "shell.execute_reply": "2023-10-04T07:19:04.988325Z"
    },
    "id": "8c2e0fde",
    "papermill": {
     "duration": 0.022071,
     "end_time": "2023-10-04T07:19:04.991756",
     "exception": false,
     "start_time": "2023-10-04T07:19:04.969685",
     "status": "completed"
    },
    "tags": []
   },
   "outputs": [],
   "source": [
    "early_stop = tensorflow.keras.callbacks.EarlyStopping(monitor=\"loss\",patience=3,mode=\"min\")"
   ]
  },
  {
   "cell_type": "code",
   "execution_count": null,
   "id": "e33e4d07",
   "metadata": {
    "execution": {
     "iopub.execute_input": "2023-10-04T07:19:05.021665Z",
     "iopub.status.busy": "2023-10-04T07:19:05.020664Z",
     "iopub.status.idle": "2023-10-04T07:24:05.243888Z",
     "shell.execute_reply": "2023-10-04T07:24:05.242685Z"
    },
    "id": "e33e4d07",
    "papermill": {
     "duration": 300.242427,
     "end_time": "2023-10-04T07:24:05.246137",
     "exception": false,
     "start_time": "2023-10-04T07:19:05.003710",
     "status": "completed"
    },
    "tags": []
   },
   "outputs": [],
   "source": [
    "evConv1D_Model = Model.fit(x_train, y_train, batch_size=64, epochs=100, validation_data=(x_test, y_test), callbacks=[early_stop])"
   ]
  },
  {
   "cell_type": "code",
   "execution_count": null,
   "id": "13024144",
   "metadata": {
    "execution": {
     "iopub.execute_input": "2023-10-04T07:24:05.399493Z",
     "iopub.status.busy": "2023-10-04T07:24:05.398809Z",
     "iopub.status.idle": "2023-10-04T07:24:29.580096Z",
     "shell.execute_reply": "2023-10-04T07:24:29.578730Z"
    },
    "id": "13024144",
    "papermill": {
     "duration": 24.260417,
     "end_time": "2023-10-04T07:24:29.582743",
     "exception": false,
     "start_time": "2023-10-04T07:24:05.322326",
     "status": "completed"
    },
    "tags": []
   },
   "outputs": [],
   "source": [
    "Model_Results = Model.evaluate(x_test,y_test)\n",
    "print(\"LOSS:  \" + \"%.4f\" % Model_Results[0])\n",
    "print(\"ACCURACY:  \" + \"%.4f\" % Model_Results[1])"
   ]
  },
  {
   "cell_type": "markdown",
   "id": "2ffb65e9",
   "metadata": {
    "id": "2ffb65e9",
    "papermill": {
     "duration": 0.076722,
     "end_time": "2023-10-04T07:24:29.733890",
     "exception": false,
     "start_time": "2023-10-04T07:24:29.657168",
     "status": "completed"
    },
    "tags": []
   },
   "source": [
    "Plotting Train and Validation Loss & Accuracy:"
   ]
  },
  {
   "cell_type": "code",
   "execution_count": null,
   "id": "e8f8494c",
   "metadata": {
    "execution": {
     "iopub.execute_input": "2023-10-04T07:24:29.880306Z",
     "iopub.status.busy": "2023-10-04T07:24:29.879768Z",
     "iopub.status.idle": "2023-10-04T07:24:30.413744Z",
     "shell.execute_reply": "2023-10-04T07:24:30.412329Z"
    },
    "id": "e8f8494c",
    "papermill": {
     "duration": 0.609932,
     "end_time": "2023-10-04T07:24:30.416841",
     "exception": false,
     "start_time": "2023-10-04T07:24:29.806909",
     "status": "completed"
    },
    "tags": []
   },
   "outputs": [],
   "source": [
    "# Plotting loss\n",
    "plt.figure(figsize=(14, 5))\n",
    "plt.subplot(1, 2, 1)\n",
    "plt.plot(evConv1D_Model.history['loss'], label='Training Loss')\n",
    "plt.plot(evConv1D_Model.history['val_loss'], label='Validation Loss')\n",
    "plt.legend()\n",
    "plt.title('Training and Validation Loss')\n",
    "\n",
    "# Plotting accuracy\n",
    "plt.subplot(1, 2, 2)\n",
    "plt.plot(evConv1D_Model.history['accuracy'], label='Training Accuracy')\n",
    "plt.plot(evConv1D_Model.history['val_accuracy'], label='Validation Accuracy')\n",
    "plt.legend()\n",
    "plt.title('Training and Validation Accuracy')\n",
    "\n",
    "plt.show()\n"
   ]
  },
  {
   "cell_type": "markdown",
   "id": "1e4942ba",
   "metadata": {
    "id": "1e4942ba",
    "papermill": {
     "duration": 0.080505,
     "end_time": "2023-10-04T07:24:30.572013",
     "exception": false,
     "start_time": "2023-10-04T07:24:30.491508",
     "status": "completed"
    },
    "tags": []
   },
   "source": [
    "Confusion Matrix:"
   ]
  },
  {
   "cell_type": "code",
   "execution_count": null,
   "id": "91dcd1fd",
   "metadata": {
    "execution": {
     "iopub.execute_input": "2023-10-04T07:24:30.734269Z",
     "iopub.status.busy": "2023-10-04T07:24:30.733787Z",
     "iopub.status.idle": "2023-10-04T07:24:31.901125Z",
     "shell.execute_reply": "2023-10-04T07:24:31.899577Z"
    },
    "id": "91dcd1fd",
    "papermill": {
     "duration": 1.251848,
     "end_time": "2023-10-04T07:24:31.904037",
     "exception": false,
     "start_time": "2023-10-04T07:24:30.652189",
     "status": "completed"
    },
    "tags": []
   },
   "outputs": [],
   "source": [
    "# Getting the predictions\n",
    "y_pred = Model.predict(x_test)\n",
    "y_pred_classes = np.argmax(y_pred, axis=1)\n",
    "y_true = np.argmax(y_test, axis=1)\n",
    "\n",
    "# Generating the confusion matrix\n",
    "confusion_mtx = confusion_matrix(y_true, y_pred_classes)\n",
    "\n",
    "# Displaying the confusion matrix\n",
    "cm_display = ConfusionMatrixDisplay(confusion_mtx, display_labels=le.classes_).plot()"
   ]
  },
  {
   "cell_type": "code",
   "execution_count": null,
   "id": "a1b23335",
   "metadata": {
    "id": "a1b23335",
    "papermill": {
     "duration": 0.07769,
     "end_time": "2023-10-04T07:24:32.058320",
     "exception": false,
     "start_time": "2023-10-04T07:24:31.980630",
     "status": "completed"
    },
    "tags": []
   },
   "outputs": [],
   "source": [
    "#Create a pickle file from the model\n",
    "\n",
    "import pickle\n",
    "# Save the model to a file using pickle\n",
    "with open('model.pkl', 'wb') as file:\n",
    "    pickle.dump(Model, file)\n"
   ]
  }
 ],
 "metadata": {
  "accelerator": "GPU",
  "colab": {
   "gpuType": "T4",
   "provenance": []
  },
  "hide_input": false,
  "kernelspec": {
   "display_name": "Python 3 (ipykernel)",
   "language": "python",
   "name": "python3"
  },
  "language_info": {
   "codemirror_mode": {
    "name": "ipython",
    "version": 3
   },
   "file_extension": ".py",
   "mimetype": "text/x-python",
   "name": "python",
   "nbconvert_exporter": "python",
   "pygments_lexer": "ipython3",
   "version": "3.9.7"
  },
  "papermill": {
   "default_parameters": {},
   "duration": 2261.764295,
   "end_time": "2023-10-04T07:24:35.719042",
   "environment_variables": {},
   "exception": null,
   "input_path": "__notebook__.ipynb",
   "output_path": "__notebook__.ipynb",
   "parameters": {},
   "start_time": "2023-10-04T06:46:53.954747",
   "version": "2.4.0"
  },
  "varInspector": {
   "cols": {
    "lenName": 16,
    "lenType": 16,
    "lenVar": 40
   },
   "kernels_config": {
    "python": {
     "delete_cmd_postfix": "",
     "delete_cmd_prefix": "del ",
     "library": "var_list.py",
     "varRefreshCmd": "print(var_dic_list())"
    },
    "r": {
     "delete_cmd_postfix": ") ",
     "delete_cmd_prefix": "rm(",
     "library": "var_list.r",
     "varRefreshCmd": "cat(var_dic_list()) "
    }
   },
   "types_to_exclude": [
    "module",
    "function",
    "builtin_function_or_method",
    "instance",
    "_Feature"
   ],
   "window_display": false
  }
 },
 "nbformat": 4,
 "nbformat_minor": 5
}
